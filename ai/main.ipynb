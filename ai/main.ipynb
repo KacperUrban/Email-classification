{
 "cells": [
  {
   "cell_type": "markdown",
   "source": [
    "## Load libraries"
   ],
   "metadata": {
    "collapsed": false
   }
  },
  {
   "cell_type": "code",
   "execution_count": 95,
   "outputs": [],
   "source": [
    "import tensorflow_text as tf_txt\n",
    "import pandas as pd\n",
    "import matplotlib.pyplot as plt\n",
    "import numpy as np\n",
    "import os\n",
    "import re\n",
    "from nltk.corpus import stopwords\n",
    "from nltk.stem import WordNetLemmatizer\n",
    "import nltk"
   ],
   "metadata": {
    "collapsed": false,
    "ExecuteTime": {
     "end_time": "2023-05-25T15:50:38.482491107Z",
     "start_time": "2023-05-25T15:50:38.477365224Z"
    }
   }
  },
  {
   "cell_type": "markdown",
   "metadata": {},
   "source": [
    "## Load data"
   ]
  },
  {
   "cell_type": "code",
   "execution_count": 31,
   "metadata": {
    "collapsed": false,
    "jupyter": {
     "outputs_hidden": false
    },
    "ExecuteTime": {
     "end_time": "2023-05-25T13:39:21.997098644Z",
     "start_time": "2023-05-25T13:39:21.586753731Z"
    }
   },
   "outputs": [
    {
     "data": {
      "text/plain": "      ID       Category                                            Content\n0  15697  Entertainment  \\n In article <1993Apr21.001707.9999@ucsu.Colo...\n1  15965  Entertainment  \\n \"The security of the system should depend o...\n2  15212  Entertainment  Message-ID: <1qn1ic$hp6@access.digex.net>\\n NN...\n3  15752  Entertainment  \\n 1) I think that most of us can afford a sta...\n4  15250  Entertainment  \\n Brad Templeton (brad@clarinet.com) wrote:\\n...\n5  15208  Entertainment  \\n -------------------------------------------...\n6  16039  Entertainment  \\n \"Jon \\\\lnes\" <jon@ifi.uio.no> writes:\\n >A ...\n7  15742  Entertainment  \\n In article <1r6g1n$rvb@access.digex.net> st...\n8  15378  Entertainment  \\n U23590@uicvm.uic.edu writes:\\n >The cryptog...\n9  52755  Entertainment  \\n \\n Yes, I know it's nowhere near Christmas ...",
      "text/html": "<div>\n<style scoped>\n    .dataframe tbody tr th:only-of-type {\n        vertical-align: middle;\n    }\n\n    .dataframe tbody tr th {\n        vertical-align: top;\n    }\n\n    .dataframe thead th {\n        text-align: right;\n    }\n</style>\n<table border=\"1\" class=\"dataframe\">\n  <thead>\n    <tr style=\"text-align: right;\">\n      <th></th>\n      <th>ID</th>\n      <th>Category</th>\n      <th>Content</th>\n    </tr>\n  </thead>\n  <tbody>\n    <tr>\n      <th>0</th>\n      <td>15697</td>\n      <td>Entertainment</td>\n      <td>\\n In article &lt;1993Apr21.001707.9999@ucsu.Colo...</td>\n    </tr>\n    <tr>\n      <th>1</th>\n      <td>15965</td>\n      <td>Entertainment</td>\n      <td>\\n \"The security of the system should depend o...</td>\n    </tr>\n    <tr>\n      <th>2</th>\n      <td>15212</td>\n      <td>Entertainment</td>\n      <td>Message-ID: &lt;1qn1ic$hp6@access.digex.net&gt;\\n NN...</td>\n    </tr>\n    <tr>\n      <th>3</th>\n      <td>15752</td>\n      <td>Entertainment</td>\n      <td>\\n 1) I think that most of us can afford a sta...</td>\n    </tr>\n    <tr>\n      <th>4</th>\n      <td>15250</td>\n      <td>Entertainment</td>\n      <td>\\n Brad Templeton (brad@clarinet.com) wrote:\\n...</td>\n    </tr>\n    <tr>\n      <th>5</th>\n      <td>15208</td>\n      <td>Entertainment</td>\n      <td>\\n -------------------------------------------...</td>\n    </tr>\n    <tr>\n      <th>6</th>\n      <td>16039</td>\n      <td>Entertainment</td>\n      <td>\\n \"Jon \\\\lnes\" &lt;jon@ifi.uio.no&gt; writes:\\n &gt;A ...</td>\n    </tr>\n    <tr>\n      <th>7</th>\n      <td>15742</td>\n      <td>Entertainment</td>\n      <td>\\n In article &lt;1r6g1n$rvb@access.digex.net&gt; st...</td>\n    </tr>\n    <tr>\n      <th>8</th>\n      <td>15378</td>\n      <td>Entertainment</td>\n      <td>\\n U23590@uicvm.uic.edu writes:\\n &gt;The cryptog...</td>\n    </tr>\n    <tr>\n      <th>9</th>\n      <td>52755</td>\n      <td>Entertainment</td>\n      <td>\\n \\n Yes, I know it's nowhere near Christmas ...</td>\n    </tr>\n  </tbody>\n</table>\n</div>"
     },
     "execution_count": 31,
     "metadata": {},
     "output_type": "execute_result"
    }
   ],
   "source": [
    "PATH = os.getcwd() + \"/Data\"\n",
    "folders = os.listdir(PATH)\n",
    "data = []\n",
    "\n",
    "for folder in folders:\n",
    "    files = os.listdir(os.path.join(PATH, folder))\n",
    "    for file in files:\n",
    "        try:\n",
    "            with open(os.path.join(PATH, folder,file)) as f:\n",
    "                contents = \" \".join(f.readlines())\n",
    "                data.append([file.split(\".\")[0], folder, contents])\n",
    "                f.close()\n",
    "        except Exception as e:\n",
    "            pass\n",
    "\n",
    "df = pd.DataFrame(data, columns=['ID', 'Category', 'Content'])\n",
    "df.head(10)"
   ]
  },
  {
   "cell_type": "markdown",
   "source": [
    "## Data analysis and processing"
   ],
   "metadata": {
    "collapsed": false
   }
  },
  {
   "cell_type": "code",
   "execution_count": 25,
   "outputs": [
    {
     "data": {
      "text/plain": "<Figure size 640x480 with 1 Axes>",
      "image/png": "[encoded data removed]"
     },
     "metadata": {},
     "output_type": "display_data"
    }
   ],
   "source": [
    "df['Category'].value_counts().plot.bar()\n",
    "plt.title(\"Number of categories\")\n",
    "plt.xticks(rotation=0)\n",
    "plt.show()"
   ],
   "metadata": {
    "collapsed": false,
    "ExecuteTime": {
     "end_time": "2023-05-25T13:19:18.447557923Z",
     "start_time": "2023-05-25T13:19:18.264663531Z"
    }
   }
  },
  {
   "cell_type": "code",
   "execution_count": 26,
   "outputs": [
    {
     "data": {
      "text/plain": "Category\nScience          3987\nPolitics         3001\nCrime            1099\nEntertainment    1052\nName: count, dtype: int64"
     },
     "execution_count": 26,
     "metadata": {},
     "output_type": "execute_result"
    }
   ],
   "source": [
    "df['Category'].value_counts()"
   ],
   "metadata": {
    "collapsed": false,
    "ExecuteTime": {
     "end_time": "2023-05-25T13:27:06.351342144Z",
     "start_time": "2023-05-25T13:27:06.345451856Z"
    }
   }
  },
  {
   "cell_type": "code",
   "execution_count": 28,
   "outputs": [
    {
     "data": {
      "text/plain": "(9139, 3)"
     },
     "execution_count": 28,
     "metadata": {},
     "output_type": "execute_result"
    }
   ],
   "source": [
    "df.shape"
   ],
   "metadata": {
    "collapsed": false,
    "ExecuteTime": {
     "end_time": "2023-05-25T13:38:24.170066702Z",
     "start_time": "2023-05-25T13:38:24.164339237Z"
    }
   }
  },
  {
   "cell_type": "code",
   "execution_count": 50,
   "outputs": [
    {
     "data": {
      "text/plain": "\"\\n In article <1993Apr21.001707.9999@ucsu.Colorado.EDU> andersom@spot.Colorado.EDU (Marc Anderson) writes:\\n [...]\\n >\\n >(the date I have for this is 1-26-93)\\n >\\n >note Clinton's statements about encryption in the 3rd paragraph..  I guess\\n >this statement doesen't contradict what you said, though.\\n >\\n >--- cut here ---\\n >\\n >        WASHINGTON (UPI) -- The War on Drugs is about to get a fresh\\n >start, President Clinton told delegates to the National Federation\\n >of Police Commisioners convention in Washington.\\n >        In the first speech on the drug issue since his innaugural,\\n >Clinton said that his planned escalation of the Drug War ``would make\\n >everything so far seem so half-hearted that for all practical\\n [...]\\n \\n I just found out from my source that this article was a joke.  Heh heh..  \\n It seemed pretty damn convincing to me from the start -- I just didn't\\n notice the smiley at the end of the article, and there were a few other\\n hints which I should of caught.\\n \\n Anyway -- I guess this 'joke' did turn out to resemble Clinton's true \\n feelings at least to some extent.  \\n \\n Sorry about that...\\n \\n -marc\\n andersom@spot.colorado.edu\\n \\n \\n\""
     },
     "execution_count": 50,
     "metadata": {},
     "output_type": "execute_result"
    }
   ],
   "source": [
    "df[\"Content\"][0]"
   ],
   "metadata": {
    "collapsed": false,
    "ExecuteTime": {
     "end_time": "2023-05-25T15:03:01.411046061Z",
     "start_time": "2023-05-25T15:03:01.373666823Z"
    }
   }
  },
  {
   "cell_type": "code",
   "execution_count": 98,
   "outputs": [
    {
     "name": "stderr",
     "output_type": "stream",
     "text": [
      "[nltk_data] Downloading package stopwords to /home/jovyan/nltk_data...\n",
      "[nltk_data]   Package stopwords is already up-to-date!\n",
      "[nltk_data] Downloading package wordnet to /home/jovyan/nltk_data...\n"
     ]
    },
    {
     "data": {
      "text/plain": "True"
     },
     "execution_count": 98,
     "metadata": {},
     "output_type": "execute_result"
    }
   ],
   "source": [
    "nltk.download('stopwords')\n",
    "nltk.download('wordnet')"
   ],
   "metadata": {
    "collapsed": false,
    "ExecuteTime": {
     "end_time": "2023-05-25T15:51:01.675740194Z",
     "start_time": "2023-05-25T15:51:00.335274605Z"
    }
   }
  },
  {
   "cell_type": "code",
   "execution_count": 114,
   "outputs": [
    {
     "name": "stdout",
     "output_type": "stream",
     "text": [
      "['i', 'me', 'my', 'myself', 'we', 'our', 'ours', 'ourselves', 'you', \"you're\", \"you've\", \"you'll\", \"you'd\", 'your', 'yours', 'yourself', 'yourselves', 'he', 'him', 'his', 'himself', 'she', \"she's\", 'her', 'hers', 'herself', 'it', \"it's\", 'its', 'itself', 'they', 'them', 'their', 'theirs', 'themselves', 'what', 'which', 'who', 'whom', 'this', 'that', \"that'll\", 'these', 'those', 'am', 'is', 'are', 'was', 'were', 'be', 'been', 'being', 'have', 'has', 'had', 'having', 'do', 'does', 'did', 'doing', 'a', 'an', 'the', 'and', 'but', 'if', 'or', 'because', 'as', 'until', 'while', 'of', 'at', 'by', 'for', 'with', 'about', 'against', 'between', 'into', 'through', 'during', 'before', 'after', 'above', 'below', 'to', 'from', 'up', 'down', 'in', 'out', 'on', 'off', 'over', 'under', 'again', 'further', 'then', 'once', 'here', 'there', 'when', 'where', 'why', 'how', 'all', 'any', 'both', 'each', 'few', 'more', 'most', 'other', 'some', 'such', 'no', 'nor', 'not', 'only', 'own', 'same', 'so', 'than', 'too', 'very', 's', 't', 'can', 'will', 'just', 'don', \"don't\", 'should', \"should've\", 'now', 'd', 'll', 'm', 'o', 're', 've', 'y', 'ain', 'aren', \"aren't\", 'couldn', \"couldn't\", 'didn', \"didn't\", 'doesn', \"doesn't\", 'hadn', \"hadn't\", 'hasn', \"hasn't\", 'haven', \"haven't\", 'isn', \"isn't\", 'ma', 'mightn', \"mightn't\", 'mustn', \"mustn't\", 'needn', \"needn't\", 'shan', \"shan't\", 'shouldn', \"shouldn't\", 'wasn', \"wasn't\", 'weren', \"weren't\", 'won', \"won't\", 'wouldn', \"wouldn't\"]\n"
     ]
    }
   ],
   "source": [
    "stop_words = stopwords.words('english')\n",
    "print(stop)"
   ],
   "metadata": {
    "collapsed": false,
    "ExecuteTime": {
     "end_time": "2023-05-25T16:01:53.179408955Z",
     "start_time": "2023-05-25T16:01:53.148795085Z"
    }
   }
  },
  {
   "cell_type": "code",
   "execution_count": 115,
   "outputs": [],
   "source": [
    "wordnet_lemmatizer = WordNetLemmatizer()\n",
    "\n",
    "def preprocessing(text):\n",
    "    tokenizer = re.compile(r'[^\\w]+')\n",
    "    tokenized = tokenizer.split(text)\n",
    "    tokenized = [w.lower() for w in tokenized]\n",
    "    filtered_sentence = [w for w in tokenized if not w.lower() in stop_words]\n",
    "    filtered_sentence = [re.sub(r'\\d+', '', w) for w in filtered_sentence if w.isalpha() and len(w) > 3]\n",
    "    filtered_sentence = [wordnet_lemmatizer.lemmatize(w, pos=\"v\") for w in filtered_sentence if not w in stop_words]\n",
    "    return filtered_sentence"
   ],
   "metadata": {
    "collapsed": false,
    "ExecuteTime": {
     "end_time": "2023-05-25T16:01:53.804518481Z",
     "start_time": "2023-05-25T16:01:53.781227504Z"
    }
   }
  },
  {
   "cell_type": "code",
   "execution_count": 118,
   "outputs": [],
   "source": [
    "df[\"Clean content\"] = df[\"Content\"].apply(lambda x: preprocessing(x))"
   ],
   "metadata": {
    "collapsed": false,
    "ExecuteTime": {
     "end_time": "2023-05-25T16:02:15.375705588Z",
     "start_time": "2023-05-25T16:02:01.180620352Z"
    }
   }
  },
  {
   "cell_type": "code",
   "execution_count": 119,
   "outputs": [
    {
     "name": "stdout",
     "output_type": "stream",
     "text": [
      "['article', 'ucsu', 'colorado', 'andersom', 'spot', 'colorado', 'marc', 'anderson', 'write', 'date', 'note', 'clinton', 'statements', 'encryption', 'paragraph', 'guess', 'statement', 'doesen', 'contradict', 'say', 'though', 'washington', 'drug', 'fresh', 'start', 'president', 'clinton', 'tell', 'delegate', 'national', 'federation', 'police', 'commisioners', 'convention', 'washington', 'first', 'speech', 'drug', 'issue', 'since', 'innaugural', 'clinton', 'say', 'plan', 'escalation', 'drug', 'would', 'make', 'everything', 'seem', 'half', 'hearted', 'practical', 'find', 'source', 'article', 'joke', 'seem', 'pretty', 'damn', 'convince', 'start', 'notice', 'smiley', 'article', 'hint', 'catch', 'anyway', 'guess', 'joke', 'turn', 'resemble', 'clinton', 'true', 'feel', 'least', 'extent', 'sorry', 'marc', 'andersom', 'spot', 'colorado']\n"
     ]
    }
   ],
   "source": [
    "print(df[\"Clean content\"][0])"
   ],
   "metadata": {
    "collapsed": false,
    "ExecuteTime": {
     "end_time": "2023-05-25T16:02:15.382651036Z",
     "start_time": "2023-05-25T16:02:15.377796946Z"
    }
   }
  },
  {
   "cell_type": "code",
   "execution_count": 120,
   "outputs": [
    {
     "data": {
      "text/plain": "      ID       Category                                            Content   \n0  15697  Entertainment  \\n In article <1993Apr21.001707.9999@ucsu.Colo...  \\\n1  15965  Entertainment  \\n \"The security of the system should depend o...   \n2  15212  Entertainment  Message-ID: <1qn1ic$hp6@access.digex.net>\\n NN...   \n3  15752  Entertainment  \\n 1) I think that most of us can afford a sta...   \n4  15250  Entertainment  \\n Brad Templeton (brad@clarinet.com) wrote:\\n...   \n\n                                       Clean content  \n0  [article, ucsu, colorado, andersom, spot, colo...  \n1  [security, system, depend, secrecy, key, secre...  \n2  [message, access, digex, nntp, post, host, acc...  \n3  [think, afford, stamp, envelope, cost, print, ...  \n4  [brad, templeton, brad, clarinet, write, occur...  ",
      "text/html": "<div>\n<style scoped>\n    .dataframe tbody tr th:only-of-type {\n        vertical-align: middle;\n    }\n\n    .dataframe tbody tr th {\n        vertical-align: top;\n    }\n\n    .dataframe thead th {\n        text-align: right;\n    }\n</style>\n<table border=\"1\" class=\"dataframe\">\n  <thead>\n    <tr style=\"text-align: right;\">\n      <th></th>\n      <th>ID</th>\n      <th>Category</th>\n      <th>Content</th>\n      <th>Clean content</th>\n    </tr>\n  </thead>\n  <tbody>\n    <tr>\n      <th>0</th>\n      <td>15697</td>\n      <td>Entertainment</td>\n      <td>\\n In article &lt;1993Apr21.001707.9999@ucsu.Colo...</td>\n      <td>[article, ucsu, colorado, andersom, spot, colo...</td>\n    </tr>\n    <tr>\n      <th>1</th>\n      <td>15965</td>\n      <td>Entertainment</td>\n      <td>\\n \"The security of the system should depend o...</td>\n      <td>[security, system, depend, secrecy, key, secre...</td>\n    </tr>\n    <tr>\n      <th>2</th>\n      <td>15212</td>\n      <td>Entertainment</td>\n      <td>Message-ID: &lt;1qn1ic$hp6@access.digex.net&gt;\\n NN...</td>\n      <td>[message, access, digex, nntp, post, host, acc...</td>\n    </tr>\n    <tr>\n      <th>3</th>\n      <td>15752</td>\n      <td>Entertainment</td>\n      <td>\\n 1) I think that most of us can afford a sta...</td>\n      <td>[think, afford, stamp, envelope, cost, print, ...</td>\n    </tr>\n    <tr>\n      <th>4</th>\n      <td>15250</td>\n      <td>Entertainment</td>\n      <td>\\n Brad Templeton (brad@clarinet.com) wrote:\\n...</td>\n      <td>[brad, templeton, brad, clarinet, write, occur...</td>\n    </tr>\n  </tbody>\n</table>\n</div>"
     },
     "execution_count": 120,
     "metadata": {},
     "output_type": "execute_result"
    }
   ],
   "source": [
    "df.head()"
   ],
   "metadata": {
    "collapsed": false,
    "ExecuteTime": {
     "end_time": "2023-05-25T16:04:25.499613503Z",
     "start_time": "2023-05-25T16:04:25.472379162Z"
    }
   }
  },
  {
   "cell_type": "code",
   "execution_count": null,
   "outputs": [],
   "source": [],
   "metadata": {
    "collapsed": false
   }
  }
 ],
 "metadata": {
  "kernelspec": {
   "display_name": "Python 3 (ipykernel)",
   "language": "python",
   "name": "python3"
  },
  "language_info": {
   "codemirror_mode": {
    "name": "ipython",
    "version": 3
   },
   "file_extension": ".py",
   "mimetype": "text/x-python",
   "name": "python",
   "nbconvert_exporter": "python",
   "pygments_lexer": "ipython3",
   "version": "3.10.11"
  }
 },
 "nbformat": 4,
 "nbformat_minor": 4
}
